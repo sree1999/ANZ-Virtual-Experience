{
 "cells": [
  {
   "cell_type": "code",
   "execution_count": 56,
   "metadata": {},
   "outputs": [],
   "source": [
    "#importing required modules\n",
    "import numpy as np\n",
    "import pandas as pd\n",
    "import matplotlib.pyplot as plt\n",
    "import seaborn as sns"
   ]
  },
  {
   "cell_type": "code",
   "execution_count": 57,
   "metadata": {},
   "outputs": [
    {
     "data": {
      "text/html": [
       "<div>\n",
       "<style scoped>\n",
       "    .dataframe tbody tr th:only-of-type {\n",
       "        vertical-align: middle;\n",
       "    }\n",
       "\n",
       "    .dataframe tbody tr th {\n",
       "        vertical-align: top;\n",
       "    }\n",
       "\n",
       "    .dataframe thead th {\n",
       "        text-align: right;\n",
       "    }\n",
       "</style>\n",
       "<table border=\"1\" class=\"dataframe\">\n",
       "  <thead>\n",
       "    <tr style=\"text-align: right;\">\n",
       "      <th></th>\n",
       "      <th>status</th>\n",
       "      <th>card_present_flag</th>\n",
       "      <th>bpay_biller_code</th>\n",
       "      <th>account</th>\n",
       "      <th>currency</th>\n",
       "      <th>long_lat</th>\n",
       "      <th>txn_description</th>\n",
       "      <th>merchant_id</th>\n",
       "      <th>merchant_code</th>\n",
       "      <th>first_name</th>\n",
       "      <th>...</th>\n",
       "      <th>age</th>\n",
       "      <th>merchant_suburb</th>\n",
       "      <th>merchant_state</th>\n",
       "      <th>extraction</th>\n",
       "      <th>amount</th>\n",
       "      <th>transaction_id</th>\n",
       "      <th>country</th>\n",
       "      <th>customer_id</th>\n",
       "      <th>merchant_long_lat</th>\n",
       "      <th>movement</th>\n",
       "    </tr>\n",
       "  </thead>\n",
       "  <tbody>\n",
       "    <tr>\n",
       "      <th>0</th>\n",
       "      <td>authorized</td>\n",
       "      <td>1.0</td>\n",
       "      <td>NaN</td>\n",
       "      <td>ACC-1598451071</td>\n",
       "      <td>AUD</td>\n",
       "      <td>153.41 -27.95</td>\n",
       "      <td>POS</td>\n",
       "      <td>81c48296-73be-44a7-befa-d053f48ce7cd</td>\n",
       "      <td>NaN</td>\n",
       "      <td>Diana</td>\n",
       "      <td>...</td>\n",
       "      <td>26</td>\n",
       "      <td>Ashmore</td>\n",
       "      <td>QLD</td>\n",
       "      <td>2018-08-01T01:01:15.000+0000</td>\n",
       "      <td>16.25</td>\n",
       "      <td>a623070bfead4541a6b0fff8a09e706c</td>\n",
       "      <td>Australia</td>\n",
       "      <td>CUS-2487424745</td>\n",
       "      <td>153.38 -27.99</td>\n",
       "      <td>debit</td>\n",
       "    </tr>\n",
       "    <tr>\n",
       "      <th>1</th>\n",
       "      <td>authorized</td>\n",
       "      <td>0.0</td>\n",
       "      <td>NaN</td>\n",
       "      <td>ACC-1598451071</td>\n",
       "      <td>AUD</td>\n",
       "      <td>153.41 -27.95</td>\n",
       "      <td>SALES-POS</td>\n",
       "      <td>830a451c-316e-4a6a-bf25-e37caedca49e</td>\n",
       "      <td>NaN</td>\n",
       "      <td>Diana</td>\n",
       "      <td>...</td>\n",
       "      <td>26</td>\n",
       "      <td>Sydney</td>\n",
       "      <td>NSW</td>\n",
       "      <td>2018-08-01T01:13:45.000+0000</td>\n",
       "      <td>14.19</td>\n",
       "      <td>13270a2a902145da9db4c951e04b51b9</td>\n",
       "      <td>Australia</td>\n",
       "      <td>CUS-2487424745</td>\n",
       "      <td>151.21 -33.87</td>\n",
       "      <td>debit</td>\n",
       "    </tr>\n",
       "    <tr>\n",
       "      <th>2</th>\n",
       "      <td>authorized</td>\n",
       "      <td>1.0</td>\n",
       "      <td>NaN</td>\n",
       "      <td>ACC-1222300524</td>\n",
       "      <td>AUD</td>\n",
       "      <td>151.23 -33.94</td>\n",
       "      <td>POS</td>\n",
       "      <td>835c231d-8cdf-4e96-859d-e9d571760cf0</td>\n",
       "      <td>NaN</td>\n",
       "      <td>Michael</td>\n",
       "      <td>...</td>\n",
       "      <td>38</td>\n",
       "      <td>Sydney</td>\n",
       "      <td>NSW</td>\n",
       "      <td>2018-08-01T01:26:15.000+0000</td>\n",
       "      <td>6.42</td>\n",
       "      <td>feb79e7ecd7048a5a36ec889d1a94270</td>\n",
       "      <td>Australia</td>\n",
       "      <td>CUS-2142601169</td>\n",
       "      <td>151.21 -33.87</td>\n",
       "      <td>debit</td>\n",
       "    </tr>\n",
       "    <tr>\n",
       "      <th>3</th>\n",
       "      <td>authorized</td>\n",
       "      <td>1.0</td>\n",
       "      <td>NaN</td>\n",
       "      <td>ACC-1037050564</td>\n",
       "      <td>AUD</td>\n",
       "      <td>153.10 -27.66</td>\n",
       "      <td>SALES-POS</td>\n",
       "      <td>48514682-c78a-4a88-b0da-2d6302e64673</td>\n",
       "      <td>NaN</td>\n",
       "      <td>Rhonda</td>\n",
       "      <td>...</td>\n",
       "      <td>40</td>\n",
       "      <td>Buderim</td>\n",
       "      <td>QLD</td>\n",
       "      <td>2018-08-01T01:38:45.000+0000</td>\n",
       "      <td>40.90</td>\n",
       "      <td>2698170da3704fd981b15e64a006079e</td>\n",
       "      <td>Australia</td>\n",
       "      <td>CUS-1614226872</td>\n",
       "      <td>153.05 -26.68</td>\n",
       "      <td>debit</td>\n",
       "    </tr>\n",
       "    <tr>\n",
       "      <th>4</th>\n",
       "      <td>authorized</td>\n",
       "      <td>1.0</td>\n",
       "      <td>NaN</td>\n",
       "      <td>ACC-1598451071</td>\n",
       "      <td>AUD</td>\n",
       "      <td>153.41 -27.95</td>\n",
       "      <td>SALES-POS</td>\n",
       "      <td>b4e02c10-0852-4273-b8fd-7b3395e32eb0</td>\n",
       "      <td>NaN</td>\n",
       "      <td>Diana</td>\n",
       "      <td>...</td>\n",
       "      <td>26</td>\n",
       "      <td>Mermaid Beach</td>\n",
       "      <td>QLD</td>\n",
       "      <td>2018-08-01T01:51:15.000+0000</td>\n",
       "      <td>3.25</td>\n",
       "      <td>329adf79878c4cf0aeb4188b4691c266</td>\n",
       "      <td>Australia</td>\n",
       "      <td>CUS-2487424745</td>\n",
       "      <td>153.44 -28.06</td>\n",
       "      <td>debit</td>\n",
       "    </tr>\n",
       "  </tbody>\n",
       "</table>\n",
       "<p>5 rows × 23 columns</p>\n",
       "</div>"
      ],
      "text/plain": [
       "       status  card_present_flag bpay_biller_code         account currency  \\\n",
       "0  authorized                1.0              NaN  ACC-1598451071      AUD   \n",
       "1  authorized                0.0              NaN  ACC-1598451071      AUD   \n",
       "2  authorized                1.0              NaN  ACC-1222300524      AUD   \n",
       "3  authorized                1.0              NaN  ACC-1037050564      AUD   \n",
       "4  authorized                1.0              NaN  ACC-1598451071      AUD   \n",
       "\n",
       "        long_lat txn_description                           merchant_id  \\\n",
       "0  153.41 -27.95             POS  81c48296-73be-44a7-befa-d053f48ce7cd   \n",
       "1  153.41 -27.95       SALES-POS  830a451c-316e-4a6a-bf25-e37caedca49e   \n",
       "2  151.23 -33.94             POS  835c231d-8cdf-4e96-859d-e9d571760cf0   \n",
       "3  153.10 -27.66       SALES-POS  48514682-c78a-4a88-b0da-2d6302e64673   \n",
       "4  153.41 -27.95       SALES-POS  b4e02c10-0852-4273-b8fd-7b3395e32eb0   \n",
       "\n",
       "   merchant_code first_name  ...  age merchant_suburb merchant_state  \\\n",
       "0            NaN      Diana  ...   26         Ashmore            QLD   \n",
       "1            NaN      Diana  ...   26          Sydney            NSW   \n",
       "2            NaN    Michael  ...   38          Sydney            NSW   \n",
       "3            NaN     Rhonda  ...   40         Buderim            QLD   \n",
       "4            NaN      Diana  ...   26   Mermaid Beach            QLD   \n",
       "\n",
       "                     extraction amount                    transaction_id  \\\n",
       "0  2018-08-01T01:01:15.000+0000  16.25  a623070bfead4541a6b0fff8a09e706c   \n",
       "1  2018-08-01T01:13:45.000+0000  14.19  13270a2a902145da9db4c951e04b51b9   \n",
       "2  2018-08-01T01:26:15.000+0000   6.42  feb79e7ecd7048a5a36ec889d1a94270   \n",
       "3  2018-08-01T01:38:45.000+0000  40.90  2698170da3704fd981b15e64a006079e   \n",
       "4  2018-08-01T01:51:15.000+0000   3.25  329adf79878c4cf0aeb4188b4691c266   \n",
       "\n",
       "     country     customer_id merchant_long_lat movement  \n",
       "0  Australia  CUS-2487424745     153.38 -27.99    debit  \n",
       "1  Australia  CUS-2487424745     151.21 -33.87    debit  \n",
       "2  Australia  CUS-2142601169     151.21 -33.87    debit  \n",
       "3  Australia  CUS-1614226872     153.05 -26.68    debit  \n",
       "4  Australia  CUS-2487424745     153.44 -28.06    debit  \n",
       "\n",
       "[5 rows x 23 columns]"
      ]
     },
     "execution_count": 57,
     "metadata": {},
     "output_type": "execute_result"
    }
   ],
   "source": [
    "#loading the dataframe\n",
    "df = pd.read_excel(\"ANZ synthesised transaction dataset.xlsx\")\n",
    "df.head()"
   ]
  },
  {
   "cell_type": "code",
   "execution_count": 58,
   "metadata": {},
   "outputs": [
    {
     "data": {
      "text/plain": [
       "Index(['status', 'card_present_flag', 'bpay_biller_code', 'account',\n",
       "       'currency', 'long_lat', 'txn_description', 'merchant_id',\n",
       "       'merchant_code', 'first_name', 'balance', 'date', 'gender', 'age',\n",
       "       'merchant_suburb', 'merchant_state', 'extraction', 'amount',\n",
       "       'transaction_id', 'country', 'customer_id', 'merchant_long_lat',\n",
       "       'movement'],\n",
       "      dtype='object')"
      ]
     },
     "execution_count": 58,
     "metadata": {},
     "output_type": "execute_result"
    }
   ],
   "source": [
    "#attributes in the dataframe\n",
    "df.columns"
   ]
  },
  {
   "cell_type": "code",
   "execution_count": 59,
   "metadata": {},
   "outputs": [
    {
     "data": {
      "text/html": [
       "<div>\n",
       "<style scoped>\n",
       "    .dataframe tbody tr th:only-of-type {\n",
       "        vertical-align: middle;\n",
       "    }\n",
       "\n",
       "    .dataframe tbody tr th {\n",
       "        vertical-align: top;\n",
       "    }\n",
       "\n",
       "    .dataframe thead th {\n",
       "        text-align: right;\n",
       "    }\n",
       "</style>\n",
       "<table border=\"1\" class=\"dataframe\">\n",
       "  <thead>\n",
       "    <tr style=\"text-align: right;\">\n",
       "      <th></th>\n",
       "      <th>status</th>\n",
       "      <th>card_present_flag</th>\n",
       "      <th>account</th>\n",
       "      <th>txn_description</th>\n",
       "      <th>first_name</th>\n",
       "      <th>balance</th>\n",
       "      <th>date</th>\n",
       "      <th>gender</th>\n",
       "      <th>age</th>\n",
       "      <th>merchant_suburb</th>\n",
       "      <th>merchant_state</th>\n",
       "      <th>extraction</th>\n",
       "      <th>amount</th>\n",
       "      <th>customer_id</th>\n",
       "      <th>movement</th>\n",
       "    </tr>\n",
       "  </thead>\n",
       "  <tbody>\n",
       "    <tr>\n",
       "      <th>0</th>\n",
       "      <td>authorized</td>\n",
       "      <td>1.0</td>\n",
       "      <td>ACC-1598451071</td>\n",
       "      <td>POS</td>\n",
       "      <td>Diana</td>\n",
       "      <td>35.39</td>\n",
       "      <td>2018-08-01</td>\n",
       "      <td>F</td>\n",
       "      <td>26</td>\n",
       "      <td>Ashmore</td>\n",
       "      <td>QLD</td>\n",
       "      <td>2018-08-01T01:01:15.000+0000</td>\n",
       "      <td>16.25</td>\n",
       "      <td>CUS-2487424745</td>\n",
       "      <td>debit</td>\n",
       "    </tr>\n",
       "    <tr>\n",
       "      <th>1</th>\n",
       "      <td>authorized</td>\n",
       "      <td>0.0</td>\n",
       "      <td>ACC-1598451071</td>\n",
       "      <td>SALES-POS</td>\n",
       "      <td>Diana</td>\n",
       "      <td>21.20</td>\n",
       "      <td>2018-08-01</td>\n",
       "      <td>F</td>\n",
       "      <td>26</td>\n",
       "      <td>Sydney</td>\n",
       "      <td>NSW</td>\n",
       "      <td>2018-08-01T01:13:45.000+0000</td>\n",
       "      <td>14.19</td>\n",
       "      <td>CUS-2487424745</td>\n",
       "      <td>debit</td>\n",
       "    </tr>\n",
       "    <tr>\n",
       "      <th>2</th>\n",
       "      <td>authorized</td>\n",
       "      <td>1.0</td>\n",
       "      <td>ACC-1222300524</td>\n",
       "      <td>POS</td>\n",
       "      <td>Michael</td>\n",
       "      <td>5.71</td>\n",
       "      <td>2018-08-01</td>\n",
       "      <td>M</td>\n",
       "      <td>38</td>\n",
       "      <td>Sydney</td>\n",
       "      <td>NSW</td>\n",
       "      <td>2018-08-01T01:26:15.000+0000</td>\n",
       "      <td>6.42</td>\n",
       "      <td>CUS-2142601169</td>\n",
       "      <td>debit</td>\n",
       "    </tr>\n",
       "    <tr>\n",
       "      <th>3</th>\n",
       "      <td>authorized</td>\n",
       "      <td>1.0</td>\n",
       "      <td>ACC-1037050564</td>\n",
       "      <td>SALES-POS</td>\n",
       "      <td>Rhonda</td>\n",
       "      <td>2117.22</td>\n",
       "      <td>2018-08-01</td>\n",
       "      <td>F</td>\n",
       "      <td>40</td>\n",
       "      <td>Buderim</td>\n",
       "      <td>QLD</td>\n",
       "      <td>2018-08-01T01:38:45.000+0000</td>\n",
       "      <td>40.90</td>\n",
       "      <td>CUS-1614226872</td>\n",
       "      <td>debit</td>\n",
       "    </tr>\n",
       "    <tr>\n",
       "      <th>4</th>\n",
       "      <td>authorized</td>\n",
       "      <td>1.0</td>\n",
       "      <td>ACC-1598451071</td>\n",
       "      <td>SALES-POS</td>\n",
       "      <td>Diana</td>\n",
       "      <td>17.95</td>\n",
       "      <td>2018-08-01</td>\n",
       "      <td>F</td>\n",
       "      <td>26</td>\n",
       "      <td>Mermaid Beach</td>\n",
       "      <td>QLD</td>\n",
       "      <td>2018-08-01T01:51:15.000+0000</td>\n",
       "      <td>3.25</td>\n",
       "      <td>CUS-2487424745</td>\n",
       "      <td>debit</td>\n",
       "    </tr>\n",
       "  </tbody>\n",
       "</table>\n",
       "</div>"
      ],
      "text/plain": [
       "       status  card_present_flag         account txn_description first_name  \\\n",
       "0  authorized                1.0  ACC-1598451071             POS      Diana   \n",
       "1  authorized                0.0  ACC-1598451071       SALES-POS      Diana   \n",
       "2  authorized                1.0  ACC-1222300524             POS    Michael   \n",
       "3  authorized                1.0  ACC-1037050564       SALES-POS     Rhonda   \n",
       "4  authorized                1.0  ACC-1598451071       SALES-POS      Diana   \n",
       "\n",
       "   balance       date gender  age merchant_suburb merchant_state  \\\n",
       "0    35.39 2018-08-01      F   26         Ashmore            QLD   \n",
       "1    21.20 2018-08-01      F   26          Sydney            NSW   \n",
       "2     5.71 2018-08-01      M   38          Sydney            NSW   \n",
       "3  2117.22 2018-08-01      F   40         Buderim            QLD   \n",
       "4    17.95 2018-08-01      F   26   Mermaid Beach            QLD   \n",
       "\n",
       "                     extraction  amount     customer_id movement  \n",
       "0  2018-08-01T01:01:15.000+0000   16.25  CUS-2487424745    debit  \n",
       "1  2018-08-01T01:13:45.000+0000   14.19  CUS-2487424745    debit  \n",
       "2  2018-08-01T01:26:15.000+0000    6.42  CUS-2142601169    debit  \n",
       "3  2018-08-01T01:38:45.000+0000   40.90  CUS-1614226872    debit  \n",
       "4  2018-08-01T01:51:15.000+0000    3.25  CUS-2487424745    debit  "
      ]
     },
     "execution_count": 59,
     "metadata": {},
     "output_type": "execute_result"
    }
   ],
   "source": [
    "#removing unnecessary attributes before analysis\n",
    "df = df[[\"status\",\"card_present_flag\",\"account\",\"txn_description\",\"first_name\",\"balance\",\"date\",\n",
    "                   \"gender\",\"age\",\"merchant_suburb\",\"merchant_state\",\"extraction\",\n",
    "                   \"amount\",\"customer_id\",\"movement\"]]\n",
    "df.head()"
   ]
  },
  {
   "cell_type": "code",
   "execution_count": 60,
   "metadata": {},
   "outputs": [
    {
     "name": "stdout",
     "output_type": "stream",
     "text": [
      "<class 'pandas.core.frame.DataFrame'>\n",
      "RangeIndex: 12043 entries, 0 to 12042\n",
      "Data columns (total 15 columns):\n",
      " #   Column             Non-Null Count  Dtype         \n",
      "---  ------             --------------  -----         \n",
      " 0   status             12043 non-null  object        \n",
      " 1   card_present_flag  7717 non-null   float64       \n",
      " 2   account            12043 non-null  object        \n",
      " 3   txn_description    12043 non-null  object        \n",
      " 4   first_name         12043 non-null  object        \n",
      " 5   balance            12043 non-null  float64       \n",
      " 6   date               12043 non-null  datetime64[ns]\n",
      " 7   gender             12043 non-null  object        \n",
      " 8   age                12043 non-null  int64         \n",
      " 9   merchant_suburb    7717 non-null   object        \n",
      " 10  merchant_state     7717 non-null   object        \n",
      " 11  extraction         12043 non-null  object        \n",
      " 12  amount             12043 non-null  float64       \n",
      " 13  customer_id        12043 non-null  object        \n",
      " 14  movement           12043 non-null  object        \n",
      "dtypes: datetime64[ns](1), float64(3), int64(1), object(10)\n",
      "memory usage: 1.4+ MB\n"
     ]
    }
   ],
   "source": [
    "#summary of the dataframe\n",
    "df.info()"
   ]
  },
  {
   "cell_type": "code",
   "execution_count": 61,
   "metadata": {},
   "outputs": [],
   "source": [
    "#convert extraction to datetime format\n",
    "df[\"extraction\"] = pd.to_datetime(df[\"extraction\"])"
   ]
  },
  {
   "cell_type": "code",
   "execution_count": 62,
   "metadata": {},
   "outputs": [
    {
     "data": {
      "text/plain": [
       "187.93358797641767"
      ]
     },
     "execution_count": 62,
     "metadata": {},
     "output_type": "execute_result"
    }
   ],
   "source": [
    "#average transaction amount per customer\n",
    "df['amount'].mean()"
   ]
  },
  {
   "cell_type": "code",
   "execution_count": 63,
   "metadata": {},
   "outputs": [
    {
     "data": {
      "text/plain": [
       "CUS-2487424745    578\n",
       "CUS-2142601169    303\n",
       "CUS-3026014945    292\n",
       "CUS-3378712515    260\n",
       "CUS-1614226872    259\n",
       "                 ... \n",
       "CUS-3395687666     40\n",
       "CUS-3201519139     37\n",
       "CUS-1646183815     34\n",
       "CUS-495599312      31\n",
       "CUS-1739931018     25\n",
       "Name: customer_id, Length: 100, dtype: int64"
      ]
     },
     "execution_count": 63,
     "metadata": {},
     "output_type": "execute_result"
    }
   ],
   "source": [
    "#number of transactions per customer\n",
    "df[\"customer_id\"].value_counts()"
   ]
  },
  {
   "cell_type": "code",
   "execution_count": 64,
   "metadata": {},
   "outputs": [
    {
     "data": {
      "text/plain": [
       "2018-09-28    174\n",
       "2018-08-17    172\n",
       "2018-10-05    168\n",
       "2018-10-17    162\n",
       "2018-09-14    161\n",
       "             ... \n",
       "2018-08-06     99\n",
       "2018-08-20     97\n",
       "2018-10-23     96\n",
       "2018-10-08     95\n",
       "2018-10-30     89\n",
       "Name: date, Length: 91, dtype: int64"
      ]
     },
     "execution_count": 64,
     "metadata": {},
     "output_type": "execute_result"
    }
   ],
   "source": [
    "#number of transactions per date\n",
    "df[\"date\"].value_counts()"
   ]
  },
  {
   "cell_type": "code",
   "execution_count": 65,
   "metadata": {},
   "outputs": [
    {
     "data": {
      "text/html": [
       "<div>\n",
       "<style scoped>\n",
       "    .dataframe tbody tr th:only-of-type {\n",
       "        vertical-align: middle;\n",
       "    }\n",
       "\n",
       "    .dataframe tbody tr th {\n",
       "        vertical-align: top;\n",
       "    }\n",
       "\n",
       "    .dataframe thead th {\n",
       "        text-align: right;\n",
       "    }\n",
       "</style>\n",
       "<table border=\"1\" class=\"dataframe\">\n",
       "  <thead>\n",
       "    <tr style=\"text-align: right;\">\n",
       "      <th></th>\n",
       "      <th>card_present_flag</th>\n",
       "      <th>balance</th>\n",
       "      <th>age</th>\n",
       "      <th>amount</th>\n",
       "    </tr>\n",
       "  </thead>\n",
       "  <tbody>\n",
       "    <tr>\n",
       "      <th>card_present_flag</th>\n",
       "      <td>1.000000</td>\n",
       "      <td>0.005925</td>\n",
       "      <td>-0.008405</td>\n",
       "      <td>-0.002074</td>\n",
       "    </tr>\n",
       "    <tr>\n",
       "      <th>balance</th>\n",
       "      <td>0.005925</td>\n",
       "      <td>1.000000</td>\n",
       "      <td>0.199329</td>\n",
       "      <td>0.059178</td>\n",
       "    </tr>\n",
       "    <tr>\n",
       "      <th>age</th>\n",
       "      <td>-0.008405</td>\n",
       "      <td>0.199329</td>\n",
       "      <td>1.000000</td>\n",
       "      <td>0.029980</td>\n",
       "    </tr>\n",
       "    <tr>\n",
       "      <th>amount</th>\n",
       "      <td>-0.002074</td>\n",
       "      <td>0.059178</td>\n",
       "      <td>0.029980</td>\n",
       "      <td>1.000000</td>\n",
       "    </tr>\n",
       "  </tbody>\n",
       "</table>\n",
       "</div>"
      ],
      "text/plain": [
       "                   card_present_flag   balance       age    amount\n",
       "card_present_flag           1.000000  0.005925 -0.008405 -0.002074\n",
       "balance                     0.005925  1.000000  0.199329  0.059178\n",
       "age                        -0.008405  0.199329  1.000000  0.029980\n",
       "amount                     -0.002074  0.059178  0.029980  1.000000"
      ]
     },
     "execution_count": 65,
     "metadata": {},
     "output_type": "execute_result"
    }
   ],
   "source": [
    "#correlation between attributes\n",
    "df.corr()"
   ]
  },
  {
   "cell_type": "code",
   "execution_count": 66,
   "metadata": {},
   "outputs": [
    {
     "data": {
      "text/plain": [
       "<matplotlib.axes._subplots.AxesSubplot at 0x2ade8a34c88>"
      ]
     },
     "execution_count": 66,
     "metadata": {},
     "output_type": "execute_result"
    },
    {
     "data": {
      "image/png": "[encoded data removed]",
      "text/plain": [
       "<Figure size 432x288 with 2 Axes>"
      ]
     },
     "metadata": {
      "needs_background": "light"
     },
     "output_type": "display_data"
    }
   ],
   "source": [
    "#correlation graph\n",
    "sns.heatmap(df.corr())"
   ]
  },
  {
   "cell_type": "code",
   "execution_count": 67,
   "metadata": {},
   "outputs": [],
   "source": [
    "#adding a new attribute- month of transaction\n",
    "months = []\n",
    "for date in df[\"date\"]:\n",
    "    if date.month == 8:\n",
    "        months.append(\"August\")\n",
    "    elif date.month == 9:\n",
    "        months.append(\"September\")\n",
    "    elif date.month == 10:\n",
    "        months.append(\"October\")\n",
    "df[\"month\"] = months"
   ]
  },
  {
   "cell_type": "code",
   "execution_count": 68,
   "metadata": {},
   "outputs": [],
   "source": [
    "#adding a new attribute- hour of traansaction\n",
    "hours = []\n",
    "for hour1 in df[\"extraction\"]:\n",
    "    hours.append(hour1.hour)\n",
    "df[\"hour\"] = hours"
   ]
  },
  {
   "cell_type": "code",
   "execution_count": 69,
   "metadata": {},
   "outputs": [],
   "source": [
    "#adding a new attribute- day of transaction\n",
    "days = []\n",
    "k=0\n",
    "week_Aug = {1:'Wed',2:'Thu',3:'Fri',4:'Sat',5:'Sun',6:'Mon',0:'Tue'}\n",
    "week_Sep = {1:'Sat',2:'Sun',3:'Mon',4:'Tue',5:'Wed',6:'Thu',0:'Fri'}\n",
    "week_Oct = {1:'Mon',2:'Tue',3:'Wed',4:'Thu',5:'Fri',6:'Sat',0:'Sun',}\n",
    "for i in df.loc[:,\"extraction\"]:\n",
    "    date=df.loc[k,\"extraction\"]\n",
    "    if date.month == 8:\n",
    "        r=(date.day)%7\n",
    "        days.append(week_Aug[r])\n",
    "    if date.month==9:\n",
    "        r=(date.day)%7\n",
    "        days.append(week_Sep[r])\n",
    "    if date.month==10:\n",
    "        r=(date.day)%7\n",
    "        days.append(week_Oct[r])\n",
    "    k=k+1\n",
    "df['Day']=days"
   ]
  },
  {
   "cell_type": "code",
   "execution_count": 70,
   "metadata": {},
   "outputs": [
    {
     "data": {
      "text/html": [
       "<div>\n",
       "<style scoped>\n",
       "    .dataframe tbody tr th:only-of-type {\n",
       "        vertical-align: middle;\n",
       "    }\n",
       "\n",
       "    .dataframe tbody tr th {\n",
       "        vertical-align: top;\n",
       "    }\n",
       "\n",
       "    .dataframe thead th {\n",
       "        text-align: right;\n",
       "    }\n",
       "</style>\n",
       "<table border=\"1\" class=\"dataframe\">\n",
       "  <thead>\n",
       "    <tr style=\"text-align: right;\">\n",
       "      <th></th>\n",
       "      <th>status</th>\n",
       "      <th>card_present_flag</th>\n",
       "      <th>account</th>\n",
       "      <th>txn_description</th>\n",
       "      <th>first_name</th>\n",
       "      <th>balance</th>\n",
       "      <th>date</th>\n",
       "      <th>gender</th>\n",
       "      <th>age</th>\n",
       "      <th>merchant_suburb</th>\n",
       "      <th>merchant_state</th>\n",
       "      <th>extraction</th>\n",
       "      <th>amount</th>\n",
       "      <th>customer_id</th>\n",
       "      <th>movement</th>\n",
       "      <th>month</th>\n",
       "      <th>hour</th>\n",
       "      <th>Day</th>\n",
       "    </tr>\n",
       "  </thead>\n",
       "  <tbody>\n",
       "    <tr>\n",
       "      <th>0</th>\n",
       "      <td>authorized</td>\n",
       "      <td>1.0</td>\n",
       "      <td>ACC-1598451071</td>\n",
       "      <td>POS</td>\n",
       "      <td>Diana</td>\n",
       "      <td>35.39</td>\n",
       "      <td>2018-08-01</td>\n",
       "      <td>F</td>\n",
       "      <td>26</td>\n",
       "      <td>Ashmore</td>\n",
       "      <td>QLD</td>\n",
       "      <td>2018-08-01 01:01:15+00:00</td>\n",
       "      <td>16.25</td>\n",
       "      <td>CUS-2487424745</td>\n",
       "      <td>debit</td>\n",
       "      <td>August</td>\n",
       "      <td>1</td>\n",
       "      <td>Wed</td>\n",
       "    </tr>\n",
       "    <tr>\n",
       "      <th>1</th>\n",
       "      <td>authorized</td>\n",
       "      <td>0.0</td>\n",
       "      <td>ACC-1598451071</td>\n",
       "      <td>SALES-POS</td>\n",
       "      <td>Diana</td>\n",
       "      <td>21.20</td>\n",
       "      <td>2018-08-01</td>\n",
       "      <td>F</td>\n",
       "      <td>26</td>\n",
       "      <td>Sydney</td>\n",
       "      <td>NSW</td>\n",
       "      <td>2018-08-01 01:13:45+00:00</td>\n",
       "      <td>14.19</td>\n",
       "      <td>CUS-2487424745</td>\n",
       "      <td>debit</td>\n",
       "      <td>August</td>\n",
       "      <td>1</td>\n",
       "      <td>Wed</td>\n",
       "    </tr>\n",
       "    <tr>\n",
       "      <th>2</th>\n",
       "      <td>authorized</td>\n",
       "      <td>1.0</td>\n",
       "      <td>ACC-1222300524</td>\n",
       "      <td>POS</td>\n",
       "      <td>Michael</td>\n",
       "      <td>5.71</td>\n",
       "      <td>2018-08-01</td>\n",
       "      <td>M</td>\n",
       "      <td>38</td>\n",
       "      <td>Sydney</td>\n",
       "      <td>NSW</td>\n",
       "      <td>2018-08-01 01:26:15+00:00</td>\n",
       "      <td>6.42</td>\n",
       "      <td>CUS-2142601169</td>\n",
       "      <td>debit</td>\n",
       "      <td>August</td>\n",
       "      <td>1</td>\n",
       "      <td>Wed</td>\n",
       "    </tr>\n",
       "    <tr>\n",
       "      <th>3</th>\n",
       "      <td>authorized</td>\n",
       "      <td>1.0</td>\n",
       "      <td>ACC-1037050564</td>\n",
       "      <td>SALES-POS</td>\n",
       "      <td>Rhonda</td>\n",
       "      <td>2117.22</td>\n",
       "      <td>2018-08-01</td>\n",
       "      <td>F</td>\n",
       "      <td>40</td>\n",
       "      <td>Buderim</td>\n",
       "      <td>QLD</td>\n",
       "      <td>2018-08-01 01:38:45+00:00</td>\n",
       "      <td>40.90</td>\n",
       "      <td>CUS-1614226872</td>\n",
       "      <td>debit</td>\n",
       "      <td>August</td>\n",
       "      <td>1</td>\n",
       "      <td>Wed</td>\n",
       "    </tr>\n",
       "    <tr>\n",
       "      <th>4</th>\n",
       "      <td>authorized</td>\n",
       "      <td>1.0</td>\n",
       "      <td>ACC-1598451071</td>\n",
       "      <td>SALES-POS</td>\n",
       "      <td>Diana</td>\n",
       "      <td>17.95</td>\n",
       "      <td>2018-08-01</td>\n",
       "      <td>F</td>\n",
       "      <td>26</td>\n",
       "      <td>Mermaid Beach</td>\n",
       "      <td>QLD</td>\n",
       "      <td>2018-08-01 01:51:15+00:00</td>\n",
       "      <td>3.25</td>\n",
       "      <td>CUS-2487424745</td>\n",
       "      <td>debit</td>\n",
       "      <td>August</td>\n",
       "      <td>1</td>\n",
       "      <td>Wed</td>\n",
       "    </tr>\n",
       "  </tbody>\n",
       "</table>\n",
       "</div>"
      ],
      "text/plain": [
       "       status  card_present_flag         account txn_description first_name  \\\n",
       "0  authorized                1.0  ACC-1598451071             POS      Diana   \n",
       "1  authorized                0.0  ACC-1598451071       SALES-POS      Diana   \n",
       "2  authorized                1.0  ACC-1222300524             POS    Michael   \n",
       "3  authorized                1.0  ACC-1037050564       SALES-POS     Rhonda   \n",
       "4  authorized                1.0  ACC-1598451071       SALES-POS      Diana   \n",
       "\n",
       "   balance       date gender  age merchant_suburb merchant_state  \\\n",
       "0    35.39 2018-08-01      F   26         Ashmore            QLD   \n",
       "1    21.20 2018-08-01      F   26          Sydney            NSW   \n",
       "2     5.71 2018-08-01      M   38          Sydney            NSW   \n",
       "3  2117.22 2018-08-01      F   40         Buderim            QLD   \n",
       "4    17.95 2018-08-01      F   26   Mermaid Beach            QLD   \n",
       "\n",
       "                 extraction  amount     customer_id movement   month  hour  \\\n",
       "0 2018-08-01 01:01:15+00:00   16.25  CUS-2487424745    debit  August     1   \n",
       "1 2018-08-01 01:13:45+00:00   14.19  CUS-2487424745    debit  August     1   \n",
       "2 2018-08-01 01:26:15+00:00    6.42  CUS-2142601169    debit  August     1   \n",
       "3 2018-08-01 01:38:45+00:00   40.90  CUS-1614226872    debit  August     1   \n",
       "4 2018-08-01 01:51:15+00:00    3.25  CUS-2487424745    debit  August     1   \n",
       "\n",
       "   Day  \n",
       "0  Wed  \n",
       "1  Wed  \n",
       "2  Wed  \n",
       "3  Wed  \n",
       "4  Wed  "
      ]
     },
     "execution_count": 70,
     "metadata": {},
     "output_type": "execute_result"
    }
   ],
   "source": [
    "df.head()"
   ]
  },
  {
   "cell_type": "code",
   "execution_count": 71,
   "metadata": {},
   "outputs": [
    {
     "name": "stdout",
     "output_type": "stream",
     "text": [
      "Average Transactions in August : 39.43\n",
      "Average Transactions in September : 40.13\n",
      "Average Transactions in October : 40.87\n"
     ]
    }
   ],
   "source": [
    "#average transactions per month\n",
    "for month in ['August','September','October']:\n",
    "    month_data=df[df['month']==month]\n",
    "    avg_transactions=len(month_data.index)/len(month_data['account'].unique())\n",
    "    print(\"Average Transactions in\",month,\":\",avg_transactions)"
   ]
  },
  {
   "cell_type": "code",
   "execution_count": 72,
   "metadata": {},
   "outputs": [
    {
     "name": "stdout",
     "output_type": "stream",
     "text": [
      "Hour 0 : 2\n",
      "Hour 1 : 3\n",
      "Hour 2 : 3\n",
      "Hour 3 : 4\n",
      "Hour 4 : 5\n",
      "Hour 5 : 5\n",
      "Hour 6 : 4\n",
      "Hour 7 : 5\n",
      "Hour 8 : 6\n",
      "Hour 9 : 11\n",
      "Hour 10 : 7\n",
      "Hour 11 : 10\n",
      "Hour 12 : 6\n",
      "Hour 13 : 6\n",
      "Hour 14 : 8\n",
      "Hour 15 : 8\n",
      "Hour 16 : 6\n",
      "Hour 17 : 9\n",
      "Hour 18 : 5\n",
      "Hour 19 : 6\n",
      "Hour 20 : 7\n",
      "Hour 21 : 8\n",
      "Hour 22 : 5\n",
      "Hour 23 : 5\n"
     ]
    }
   ],
   "source": [
    "#average transactions per hour\n",
    "def avg_trans(hr):\n",
    "    day_data=df[df['hour']==hr]\n",
    "    avg_transactions=len(day_data.index)/len(day_data['account'].unique())\n",
    "    return avg_transactions\n",
    "for i in range(24):\n",
    "    print(\"Hour\",i,\":\",int(np.round_(avg_trans(i))))"
   ]
  },
  {
   "cell_type": "code",
   "execution_count": 73,
   "metadata": {},
   "outputs": [
    {
     "name": "stdout",
     "output_type": "stream",
     "text": [
      "Sun : 16\n",
      "Mon : 14\n",
      "Tue : 15\n",
      "Wed : 21\n",
      "Thu : 18\n",
      "Fri : 21\n",
      "Sat : 17\n"
     ]
    }
   ],
   "source": [
    "#average transactions per day of week\n",
    "Week=['Sun','Mon','Tue','Wed','Thu','Fri','Sat']\n",
    "for day in Week:\n",
    "    week_data=df[df['Day']==day]\n",
    "    avg_transactions=len(week_data.index)/len(week_data['account'].unique())\n",
    "    print(day,\":\",int(np.round_(avg_transactions)))"
   ]
  },
  {
   "cell_type": "code",
   "execution_count": 74,
   "metadata": {},
   "outputs": [
    {
     "data": {
      "text/plain": [
       "Day\n",
       "Fri    249.353517\n",
       "Mon    373.221000\n",
       "Sat     54.419286\n",
       "Sun     53.015845\n",
       "Thu    184.010422\n",
       "Tue    221.576456\n",
       "Wed    195.215570\n",
       "Name: amount, dtype: float64"
      ]
     },
     "execution_count": 74,
     "metadata": {},
     "output_type": "execute_result"
    }
   ],
   "source": [
    "#Mean transaction amount per day of week\n",
    "df.groupby('Day')['amount'].mean()"
   ]
  },
  {
   "cell_type": "code",
   "execution_count": 75,
   "metadata": {},
   "outputs": [
    {
     "data": {
      "text/plain": [
       "<matplotlib.axes._subplots.AxesSubplot at 0x2ade992f488>"
      ]
     },
     "execution_count": 75,
     "metadata": {},
     "output_type": "execute_result"
    },
    {
     "data": {
      "image/png": "[encoded data removed]",
      "text/plain": [
       "<Figure size 432x288 with 1 Axes>"
      ]
     },
     "metadata": {
      "needs_background": "light"
     },
     "output_type": "display_data"
    }
   ],
   "source": [
    "#transaction and movement per day of week\n",
    "sns.scatterplot(x='Day',y='amount',hue='movement',data=df)"
   ]
  },
  {
   "cell_type": "code",
   "execution_count": 76,
   "metadata": {},
   "outputs": [
    {
     "data": {
      "text/plain": [
       "Text(0.5, 1.0, 'Frequency Distribution of Card Present/Not Present')"
      ]
     },
     "execution_count": 76,
     "metadata": {},
     "output_type": "execute_result"
    },
    {
     "data": {
      "image/png": "[encoded data removed]",
      "text/plain": [
       "<Figure size 432x288 with 1 Axes>"
      ]
     },
     "metadata": {
      "needs_background": "light"
     },
     "output_type": "display_data"
    }
   ],
   "source": [
    "#count of card present/not present\n",
    "sns.countplot(x = 'card_present_flag', data = df)\n",
    "plt.title('Frequency Distribution of Card Present/Not Present')"
   ]
  },
  {
   "cell_type": "code",
   "execution_count": 77,
   "metadata": {},
   "outputs": [
    {
     "data": {
      "text/plain": [
       "<matplotlib.axes._subplots.AxesSubplot at 0x2ade95c2048>"
      ]
     },
     "execution_count": 77,
     "metadata": {},
     "output_type": "execute_result"
    },
    {
     "data": {
      "image/png": "[encoded data removed]",
      "text/plain": [
       "<Figure size 432x288 with 1 Axes>"
      ]
     },
     "metadata": {
      "needs_background": "light"
     },
     "output_type": "display_data"
    }
   ],
   "source": [
    "#transaction as function of day of week and hour\n",
    "sns.lineplot(x='hour',y='amount',hue='Day',data=df)"
   ]
  },
  {
   "cell_type": "code",
   "execution_count": 78,
   "metadata": {},
   "outputs": [
    {
     "data": {
      "text/plain": [
       "<matplotlib.axes._subplots.AxesSubplot at 0x2ade967b4c8>"
      ]
     },
     "execution_count": 78,
     "metadata": {},
     "output_type": "execute_result"
    },
    {
     "data": {
      "image/png": "[encoded data removed]",
      "text/plain": [
       "<Figure size 432x288 with 1 Axes>"
      ]
     },
     "metadata": {
      "needs_background": "light"
     },
     "output_type": "display_data"
    }
   ],
   "source": [
    "#movement vs transaction amount\n",
    "sns.boxplot(x='movement', y='amount',data=df)"
   ]
  },
  {
   "cell_type": "code",
   "execution_count": 79,
   "metadata": {},
   "outputs": [
    {
     "data": {
      "text/plain": [
       "<matplotlib.legend.Legend at 0x2ade9613a48>"
      ]
     },
     "execution_count": 79,
     "metadata": {},
     "output_type": "execute_result"
    },
    {
     "data": {
      "image/png": "[encoded data removed]",
      "text/plain": [
       "<Figure size 432x288 with 1 Axes>"
      ]
     },
     "metadata": {
      "needs_background": "light"
     },
     "output_type": "display_data"
    }
   ],
   "source": [
    "#Customer Balance vs. Age for August\n",
    "temp = df[df[\"month\"] == \"August\"].groupby(\"customer_id\").mean()\n",
    "plt.figure()\n",
    "plt.scatter(temp[\"age\"], temp[\"balance\"], c=\"black\", label=\"Balance\")\n",
    "plt.title(\"Customer Balance vs. Age for August\")\n",
    "plt.xlabel(\"Age\")\n",
    "plt.ylabel(\"Balance\")\n",
    "plt.legend()"
   ]
  },
  {
   "cell_type": "code",
   "execution_count": 80,
   "metadata": {},
   "outputs": [
    {
     "data": {
      "text/plain": [
       "<matplotlib.legend.Legend at 0x2ade96d0048>"
      ]
     },
     "execution_count": 80,
     "metadata": {},
     "output_type": "execute_result"
    },
    {
     "data": {
      "image/png": "[encoded data removed]",
      "text/plain": [
       "<Figure size 432x288 with 1 Axes>"
      ]
     },
     "metadata": {
      "needs_background": "light"
     },
     "output_type": "display_data"
    }
   ],
   "source": [
    "#Customer Mean Payment Amount vs. Age for August\n",
    "plt.scatter(temp[\"age\"], temp[\"amount\"], c=\"black\", label=\"Amount\")\n",
    "plt.title(\"Customer Mean Payment Amount vs. Age for August\")\n",
    "plt.xlabel(\"Age\")\n",
    "plt.ylabel(\"Amount\")\n",
    "plt.legend()"
   ]
  },
  {
   "cell_type": "code",
   "execution_count": 81,
   "metadata": {},
   "outputs": [
    {
     "data": {
      "text/plain": [
       "<matplotlib.legend.Legend at 0x2ade96d0f08>"
      ]
     },
     "execution_count": 81,
     "metadata": {},
     "output_type": "execute_result"
    },
    {
     "data": {
      "image/png": "[encoded data removed]",
      "text/plain": [
       "<Figure size 432x288 with 1 Axes>"
      ]
     },
     "metadata": {
      "needs_background": "light"
     },
     "output_type": "display_data"
    }
   ],
   "source": [
    "#Customer Balance vs. Age for September\n",
    "temp = df[df[\"month\"] == \"September\"].groupby(\"customer_id\").mean()\n",
    "plt.figure()\n",
    "plt.scatter(temp[\"age\"], temp[\"balance\"], c=\"black\", label=\"Balance\")\n",
    "plt.title(\"Customer Balance vs. Age for September\")\n",
    "plt.xlabel(\"Age\")\n",
    "plt.ylabel(\"Balance\")\n",
    "plt.legend()"
   ]
  },
  {
   "cell_type": "code",
   "execution_count": 82,
   "metadata": {},
   "outputs": [
    {
     "data": {
      "text/plain": [
       "<matplotlib.legend.Legend at 0x2ade95f83c8>"
      ]
     },
     "execution_count": 82,
     "metadata": {},
     "output_type": "execute_result"
    },
    {
     "data": {
      "image/png": "[encoded data removed]",
      "text/plain": [
       "<Figure size 432x288 with 1 Axes>"
      ]
     },
     "metadata": {
      "needs_background": "light"
     },
     "output_type": "display_data"
    }
   ],
   "source": [
    "#Customer Mean Payment Amount vs. Age for September\n",
    "plt.scatter(temp[\"age\"], temp[\"amount\"], c=\"black\", label=\"Amount\")\n",
    "plt.title(\"Customer Mean Payment Amount vs. Age for September\")\n",
    "plt.xlabel(\"Age\")\n",
    "plt.ylabel(\"Amount\")\n",
    "plt.legend()"
   ]
  },
  {
   "cell_type": "code",
   "execution_count": 83,
   "metadata": {},
   "outputs": [
    {
     "data": {
      "text/plain": [
       "<matplotlib.legend.Legend at 0x2ade9755288>"
      ]
     },
     "execution_count": 83,
     "metadata": {},
     "output_type": "execute_result"
    },
    {
     "data": {
      "image/png": "[encoded data removed]",
      "text/plain": [
       "<Figure size 432x288 with 1 Axes>"
      ]
     },
     "metadata": {
      "needs_background": "light"
     },
     "output_type": "display_data"
    }
   ],
   "source": [
    "#Customer Balance vs. Age for October\n",
    "temp = df[df[\"month\"] == \"October\"].groupby(\"customer_id\").mean()\n",
    "plt.figure()\n",
    "plt.scatter(temp[\"age\"], temp[\"balance\"], c=\"black\", label=\"Balance\")\n",
    "plt.title(\"Customer Balance vs. Age for October\")\n",
    "plt.xlabel(\"Age\")\n",
    "plt.ylabel(\"Balance\")\n",
    "plt.legend()"
   ]
  },
  {
   "cell_type": "code",
   "execution_count": 84,
   "metadata": {},
   "outputs": [
    {
     "data": {
      "text/plain": [
       "<matplotlib.legend.Legend at 0x2ade97d7388>"
      ]
     },
     "execution_count": 84,
     "metadata": {},
     "output_type": "execute_result"
    },
    {
     "data": {
      "image/png": "[encoded data removed]",
      "text/plain": [
       "<Figure size 432x288 with 1 Axes>"
      ]
     },
     "metadata": {
      "needs_background": "light"
     },
     "output_type": "display_data"
    }
   ],
   "source": [
    "#Customer Mean Payment Amount vs. Age for October\n",
    "plt.scatter(temp[\"age\"], temp[\"amount\"], c=\"black\", label=\"Amount\")\n",
    "plt.title(\"Customer Mean Payment Amount vs. Age for October\")\n",
    "plt.xlabel(\"Age\")\n",
    "plt.ylabel(\"Amount\")\n",
    "plt.legend()"
   ]
  },
  {
   "cell_type": "code",
   "execution_count": 85,
   "metadata": {},
   "outputs": [
    {
     "data": {
      "text/plain": [
       "Text(0.5, 1.0, \"Histogram of client's age\")"
      ]
     },
     "execution_count": 85,
     "metadata": {},
     "output_type": "execute_result"
    },
    {
     "data": {
      "image/png": "[encoded data removed]",
      "text/plain": [
       "<Figure size 720x360 with 1 Axes>"
      ]
     },
     "metadata": {
      "needs_background": "light"
     },
     "output_type": "display_data"
    }
   ],
   "source": [
    "#Histogram of client's age\n",
    "df[\"age\"].hist(bins = 80, figsize=(10,5))\n",
    "plt.xlabel(\"Age of clients\")\n",
    "plt.ylabel(\"Counts\")\n",
    "plt.title(\"Histogram of client's age\")"
   ]
  },
  {
   "cell_type": "code",
   "execution_count": 86,
   "metadata": {},
   "outputs": [
    {
     "data": {
      "image/png": "[encoded data removed]",
      "text/plain": [
       "<Figure size 1080x432 with 1 Axes>"
      ]
     },
     "metadata": {
      "needs_background": "light"
     },
     "output_type": "display_data"
    }
   ],
   "source": [
    "#Agewise customer population in States\n",
    "f, ax = plt.subplots(nrows=1, figsize=(15,6))\n",
    "df.groupby(['merchant_state',pd.cut(df['age'], np.arange(0,100,10))]).size().unstack(0).plot.bar(stacked=True, ax=ax)\n",
    "ax.set_title('Age of customers in States',fontsize=15)\n",
    "plt.show()"
   ]
  },
  {
   "cell_type": "code",
   "execution_count": null,
   "metadata": {},
   "outputs": [],
   "source": []
  }
 ],
 "metadata": {
  "kernelspec": {
   "display_name": "Python 3",
   "language": "python",
   "name": "python3"
  },
  "language_info": {
   "codemirror_mode": {
    "name": "ipython",
    "version": 3
   },
   "file_extension": ".py",
   "mimetype": "text/x-python",
   "name": "python",
   "nbconvert_exporter": "python",
   "pygments_lexer": "ipython3",
   "version": "3.7.6"
  }
 },
 "nbformat": 4,
 "nbformat_minor": 4
}
